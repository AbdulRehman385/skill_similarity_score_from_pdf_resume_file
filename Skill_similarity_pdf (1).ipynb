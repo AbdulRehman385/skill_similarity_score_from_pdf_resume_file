{
  "cells": [
    {
      "cell_type": "code",
      "source": [
        "!pip install PyPDF2 streamlit"
      ],
      "metadata": {
        "colab": {
          "base_uri": "https://localhost:8080/"
        },
        "id": "RZDQerEpT8fk",
        "outputId": "2d558742-d6cf-49af-c1d5-d89ac1e356e6"
      },
      "execution_count": 22,
      "outputs": [
        {
          "output_type": "stream",
          "name": "stdout",
          "text": [
            "Requirement already satisfied: PyPDF2 in /usr/local/lib/python3.11/dist-packages (3.0.1)\n",
            "Requirement already satisfied: streamlit in /usr/local/lib/python3.11/dist-packages (1.43.2)\n",
            "Requirement already satisfied: altair<6,>=4.0 in /usr/local/lib/python3.11/dist-packages (from streamlit) (5.5.0)\n",
            "Requirement already satisfied: blinker<2,>=1.0.0 in /usr/local/lib/python3.11/dist-packages (from streamlit) (1.9.0)\n",
            "Requirement already satisfied: cachetools<6,>=4.0 in /usr/local/lib/python3.11/dist-packages (from streamlit) (5.5.2)\n",
            "Requirement already satisfied: click<9,>=7.0 in /usr/local/lib/python3.11/dist-packages (from streamlit) (8.1.8)\n",
            "Requirement already satisfied: numpy<3,>=1.23 in /usr/local/lib/python3.11/dist-packages (from streamlit) (2.0.2)\n",
            "Requirement already satisfied: packaging<25,>=20 in /usr/local/lib/python3.11/dist-packages (from streamlit) (24.2)\n",
            "Requirement already satisfied: pandas<3,>=1.4.0 in /usr/local/lib/python3.11/dist-packages (from streamlit) (2.2.2)\n",
            "Requirement already satisfied: pillow<12,>=7.1.0 in /usr/local/lib/python3.11/dist-packages (from streamlit) (11.1.0)\n",
            "Requirement already satisfied: protobuf<6,>=3.20 in /usr/local/lib/python3.11/dist-packages (from streamlit) (5.29.3)\n",
            "Requirement already satisfied: pyarrow>=7.0 in /usr/local/lib/python3.11/dist-packages (from streamlit) (18.1.0)\n",
            "Requirement already satisfied: requests<3,>=2.27 in /usr/local/lib/python3.11/dist-packages (from streamlit) (2.32.3)\n",
            "Requirement already satisfied: tenacity<10,>=8.1.0 in /usr/local/lib/python3.11/dist-packages (from streamlit) (9.0.0)\n",
            "Requirement already satisfied: toml<2,>=0.10.1 in /usr/local/lib/python3.11/dist-packages (from streamlit) (0.10.2)\n",
            "Requirement already satisfied: typing-extensions<5,>=4.4.0 in /usr/local/lib/python3.11/dist-packages (from streamlit) (4.12.2)\n",
            "Requirement already satisfied: watchdog<7,>=2.1.5 in /usr/local/lib/python3.11/dist-packages (from streamlit) (6.0.0)\n",
            "Requirement already satisfied: gitpython!=3.1.19,<4,>=3.0.7 in /usr/local/lib/python3.11/dist-packages (from streamlit) (3.1.44)\n",
            "Requirement already satisfied: pydeck<1,>=0.8.0b4 in /usr/local/lib/python3.11/dist-packages (from streamlit) (0.9.1)\n",
            "Requirement already satisfied: tornado<7,>=6.0.3 in /usr/local/lib/python3.11/dist-packages (from streamlit) (6.4.2)\n",
            "Requirement already satisfied: jinja2 in /usr/local/lib/python3.11/dist-packages (from altair<6,>=4.0->streamlit) (3.1.6)\n",
            "Requirement already satisfied: jsonschema>=3.0 in /usr/local/lib/python3.11/dist-packages (from altair<6,>=4.0->streamlit) (4.23.0)\n",
            "Requirement already satisfied: narwhals>=1.14.2 in /usr/local/lib/python3.11/dist-packages (from altair<6,>=4.0->streamlit) (1.31.0)\n",
            "Requirement already satisfied: gitdb<5,>=4.0.1 in /usr/local/lib/python3.11/dist-packages (from gitpython!=3.1.19,<4,>=3.0.7->streamlit) (4.0.12)\n",
            "Requirement already satisfied: python-dateutil>=2.8.2 in /usr/local/lib/python3.11/dist-packages (from pandas<3,>=1.4.0->streamlit) (2.8.2)\n",
            "Requirement already satisfied: pytz>=2020.1 in /usr/local/lib/python3.11/dist-packages (from pandas<3,>=1.4.0->streamlit) (2025.1)\n",
            "Requirement already satisfied: tzdata>=2022.7 in /usr/local/lib/python3.11/dist-packages (from pandas<3,>=1.4.0->streamlit) (2025.1)\n",
            "Requirement already satisfied: charset-normalizer<4,>=2 in /usr/local/lib/python3.11/dist-packages (from requests<3,>=2.27->streamlit) (3.4.1)\n",
            "Requirement already satisfied: idna<4,>=2.5 in /usr/local/lib/python3.11/dist-packages (from requests<3,>=2.27->streamlit) (3.10)\n",
            "Requirement already satisfied: urllib3<3,>=1.21.1 in /usr/local/lib/python3.11/dist-packages (from requests<3,>=2.27->streamlit) (2.3.0)\n",
            "Requirement already satisfied: certifi>=2017.4.17 in /usr/local/lib/python3.11/dist-packages (from requests<3,>=2.27->streamlit) (2025.1.31)\n",
            "Requirement already satisfied: smmap<6,>=3.0.1 in /usr/local/lib/python3.11/dist-packages (from gitdb<5,>=4.0.1->gitpython!=3.1.19,<4,>=3.0.7->streamlit) (5.0.2)\n",
            "Requirement already satisfied: MarkupSafe>=2.0 in /usr/local/lib/python3.11/dist-packages (from jinja2->altair<6,>=4.0->streamlit) (3.0.2)\n",
            "Requirement already satisfied: attrs>=22.2.0 in /usr/local/lib/python3.11/dist-packages (from jsonschema>=3.0->altair<6,>=4.0->streamlit) (25.3.0)\n",
            "Requirement already satisfied: jsonschema-specifications>=2023.03.6 in /usr/local/lib/python3.11/dist-packages (from jsonschema>=3.0->altair<6,>=4.0->streamlit) (2024.10.1)\n",
            "Requirement already satisfied: referencing>=0.28.4 in /usr/local/lib/python3.11/dist-packages (from jsonschema>=3.0->altair<6,>=4.0->streamlit) (0.36.2)\n",
            "Requirement already satisfied: rpds-py>=0.7.1 in /usr/local/lib/python3.11/dist-packages (from jsonschema>=3.0->altair<6,>=4.0->streamlit) (0.23.1)\n",
            "Requirement already satisfied: six>=1.5 in /usr/local/lib/python3.11/dist-packages (from python-dateutil>=2.8.2->pandas<3,>=1.4.0->streamlit) (1.17.0)\n"
          ]
        }
      ]
    },
    {
      "cell_type": "code",
      "source": [
        "# import libraries\n",
        "import PyPDF2\n",
        "import streamlit as st\n",
        "import spacy\n",
        "\n",
        "from sklearn.feature_extraction.text import TfidfVectorizer\n",
        "from sklearn.metrics.pairwise import cosine_similarity"
      ],
      "metadata": {
        "id": "03rGixzkmz73"
      },
      "execution_count": 23,
      "outputs": []
    },
    {
      "cell_type": "code",
      "source": [
        "def extract_text_from_pdf(pdf_path):\n",
        "    with open(pdf_path, 'rb') as file:\n",
        "        reader = PyPDF2.PdfReader(file)\n",
        "        text = ''\n",
        "        for page in reader.pages:\n",
        "            text += page.extract_text()\n",
        "    return text\n",
        "\n",
        "# def extract_text_from_pdf(pdf_file):\n",
        "#   reader = PyPDF2.PdfReader(pdf_file)\n",
        "#   text = ''\n",
        "#   for page in reader.pages:\n",
        "#     text += page.extract_text()\n",
        "#   return text"
      ],
      "metadata": {
        "id": "sXwjFAL1QfuB"
      },
      "execution_count": 24,
      "outputs": []
    },
    {
      "cell_type": "code",
      "source": [
        "def skills_extract(text):\n",
        "\n",
        "  nlp = spacy.load('en_core_web_sm')\n",
        "\n",
        "  # Use pre-trained NER\n",
        "  doc = nlp(text)\n",
        "  skills = []\n",
        "  for ent in doc.ents:\n",
        "    skills.append(ent.text)\n",
        "  return skills"
      ],
      "metadata": {
        "id": "rTAkAXM6p6HU"
      },
      "execution_count": 25,
      "outputs": []
    },
    {
      "cell_type": "code",
      "source": [
        "def score_resume_cosine(job_desc_skills, resume_skills):\n",
        "\n",
        "    all_skills = job_desc_skills + resume_skills\n",
        "\n",
        "    vectorizer = TfidfVectorizer()\n",
        "\n",
        "    tfidf_matrix = vectorizer.fit_transform(all_skills)\n",
        "\n",
        "    # Separate job description vector and resume vector\n",
        "    job_desc_vector = tfidf_matrix[:len(job_desc_skills)]  # First part is job description skills\n",
        "    resume_vector = tfidf_matrix[len(job_desc_skills):]     # Second part is resume skills\n",
        "\n",
        "    # Compute cosine similarity between the job description and resume vectors\n",
        "    similarity = cosine_similarity(resume_vector, job_desc_vector)\n",
        "\n",
        "    # Average the similarity scores (To take combined mean of all the probabilities vectors)\n",
        "    average_similarity = similarity.mean()\n",
        "\n",
        "    # Return the score as a percentage\n",
        "    return round(average_similarity * 100, 2)"
      ],
      "metadata": {
        "id": "lpV0orB4XKdM"
      },
      "execution_count": 26,
      "outputs": []
    },
    {
      "cell_type": "code",
      "source": [
        "def suggested_skills(job_skills, resume_skills):\n",
        "  suggested_skills = []\n",
        "  for skill in job_skills:\n",
        "    if skill not in resume_skills:\n",
        "      suggested_skills.append(skill)\n",
        "  return suggested_skills"
      ],
      "metadata": {
        "id": "0Qzvm1QCXazS"
      },
      "execution_count": 27,
      "outputs": []
    },
    {
      "cell_type": "code",
      "source": [
        "def process_skills_text(j_skills, r_skills):\n",
        "\n",
        "  # split the job skills into list\n",
        "  job_skills = j_skills.split(',')\n",
        "\n",
        "  #clean both resume and job skills texts\n",
        "  job_skills = [job_skill.strip() for job_skill in job_skills]\n",
        "  job_skills = [job_skill.lower() for job_skill in job_skills]\n",
        "\n",
        "  resume_skills = r_skills\n",
        "  resume_skills = [resume_skill.strip() for resume_skill in resume_skills]\n",
        "  resume_skills = [resume_skill.lower() for resume_skill in resume_skills]\n",
        "\n",
        "  return job_skills, resume_skills"
      ],
      "metadata": {
        "id": "1WO9xH1yksN4"
      },
      "execution_count": 28,
      "outputs": []
    },
    {
      "cell_type": "code",
      "source": [
        "job_skills = \"Machine learning, deep learning, C++, Python\"\n",
        "text = extract_text_from_pdf('/content/My_CV.pdf')\n",
        "resume_skills = skills_extract(text)\n",
        "\n",
        "job_skills, resume_skills = process_skills_text(job_skills, resume_skills)\n",
        "score = score_resume_cosine(job_skills, resume_skills)\n",
        "suggested_skills = suggested_skills(job_skills, resume_skills)\n",
        "\n",
        "print(\"Job Skills:\", job_skills)\n",
        "print(\"Resume Skills:\", resume_skills)\n",
        "print(f\"Score: {score}%\")\n",
        "print(\"Suggested Skills:\", suggested_skills)"
      ],
      "metadata": {
        "colab": {
          "base_uri": "https://localhost:8080/"
        },
        "id": "UQzpaWCT5qb_",
        "outputId": "f11c9316-eb29-4577-c681-bb2512013eae"
      },
      "execution_count": 29,
      "outputs": [
        {
          "output_type": "stream",
          "name": "stdout",
          "text": [
            "Job Skills: ['machine learning', 'deep learning', 'c++', 'python']\n",
            "Resume Skills: ['cnn', 'cnn', 'flower images classification', 'abdul rehman \\njunior', 'machine learning', 'random forest', 'xgboost', 'cnn', 'ml', 'python', 'tensorflow', 'ml/dl', 'bachelor of science: economics', '2024, july', 'sukkur iba university - sukkur', 'sindh', 'econometrics', '2024', '2024', 'classification - coursera', '2024', 'coursera', '2024', 'coursera', '2024', 'sarcasm detection using', 'rnn', 'roc', '0.999', 'apple quality prediction using machine learning', 'random forest', 'normalization', 'randomsearchcv', 'islamabad', 'pakistan', 'c++ \\nmachine learning', 'tensorflow', 'keras', 'data visualization', 'matplotlib', 'random forest', 'xgboost', 'gradient boost', 'svm', 'knn', 'cnn', 'rnn', 'nlp', 'pandas', 'excel', 'jupyter notebooks', 'pycharm']\n",
            "Score: 2.17%\n",
            "Suggested Skills: ['deep learning', 'c++']\n"
          ]
        }
      ]
    },
    {
      "cell_type": "code",
      "source": [],
      "metadata": {
        "id": "kGmaZ6B9-8Cx"
      },
      "execution_count": 29,
      "outputs": []
    },
    {
      "cell_type": "code",
      "source": [],
      "metadata": {
        "id": "fmO4tfBc_VEV"
      },
      "execution_count": 29,
      "outputs": []
    }
  ],
  "metadata": {
    "accelerator": "GPU",
    "colab": {
      "gpuType": "T4",
      "provenance": []
    },
    "kernelspec": {
      "display_name": "Python 3",
      "name": "python3"
    },
    "language_info": {
      "name": "python"
    }
  },
  "nbformat": 4,
  "nbformat_minor": 0
}